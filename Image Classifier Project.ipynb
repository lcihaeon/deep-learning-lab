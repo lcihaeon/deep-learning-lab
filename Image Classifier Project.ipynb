{
 "cells": [
  {
   "cell_type": "markdown",
   "metadata": {},
   "source": [
    "# Developing an AI application\n",
    "\n",
    "Going forward, AI algorithms will be incorporated into more and more everyday applications. For example, you might want to include an image classifier in a smart phone app. To do this, you'd use a deep learning model trained on hundreds of thousands of images as part of the overall application architecture. A large part of software development in the future will be using these types of models as common parts of applications. \n",
    "\n",
    "In this project, you'll train an image classifier to recognize different species of flowers. You can imagine using something like this in a phone app that tells you the name of the flower your camera is looking at. In practice you'd train this classifier, then export it for use in your application. We'll be using [this dataset](http://www.robots.ox.ac.uk/~vgg/data/flowers/102/index.html) of 102 flower categories, you can see a few examples below. \n",
    "\n",
    "<img src='assets/Flowers.png' width=500px>\n",
    "\n",
    "The project is broken down into multiple steps:\n",
    "\n",
    "* Load and preprocess the image dataset\n",
    "* Train the image classifier on your dataset\n",
    "* Use the trained classifier to predict image content\n",
    "\n",
    "We'll lead you through each part which you'll implement in Python.\n",
    "\n",
    "When you've completed this project, you'll have an application that can be trained on any set of labeled images. Here your network will be learning about flowers and end up as a command line application. But, what you do with your new skills depends on your imagination and effort in building a dataset. For example, imagine an app where you take a picture of a car, it tells you what the make and model is, then looks up information about it. Go build your own dataset and make something new.\n",
    "\n",
    "First up is importing the packages you'll need. It's good practice to keep all the imports at the beginning of your code. As you work through this notebook and find you need to import a package, make sure to add the import up here."
   ]
  },
  {
   "cell_type": "code",
   "execution_count": 1,
   "metadata": {},
   "outputs": [],
   "source": [
    "# Imports here\n",
    "\n",
    "import torch\n",
    "from torch import nn, optim\n",
    "from torchvision import transforms, datasets, models\n",
    "from torch.utils.data import DataLoader\n",
    "import time\n",
    "from PIL import Image\n",
    "import numpy as np\n",
    "\n",
    "from matplotlib import pyplot as plt\n"
   ]
  },
  {
   "cell_type": "markdown",
   "metadata": {},
   "source": [
    "## Load the data\n",
    "\n",
    "Here you'll use `torchvision` to load the data ([documentation](http://pytorch.org/docs/0.3.0/torchvision/index.html)). The data should be included alongside this notebook, otherwise you can [download it here](https://s3.amazonaws.com/content.udacity-data.com/nd089/flower_data.tar.gz). The dataset is split into three parts, training, validation, and testing. For the training, you'll want to apply transformations such as random scaling, cropping, and flipping. This will help the network generalize leading to better performance. You'll also need to make sure the input data is resized to 224x224 pixels as required by the pre-trained networks.\n",
    "\n",
    "The validation and testing sets are used to measure the model's performance on data it hasn't seen yet. For this you don't want any scaling or rotation transformations, but you'll need to resize then crop the images to the appropriate size.\n",
    "\n",
    "The pre-trained networks you'll use were trained on the ImageNet dataset where each color channel was normalized separately. For all three sets you'll need to normalize the means and standard deviations of the images to what the network expects. For the means, it's `[0.485, 0.456, 0.406]` and for the standard deviations `[0.229, 0.224, 0.225]`, calculated from the ImageNet images.  These values will shift each color channel to be centered at 0 and range from -1 to 1.\n",
    " "
   ]
  },
  {
   "cell_type": "code",
   "execution_count": 2,
   "metadata": {},
   "outputs": [],
   "source": [
    "data_dir = 'flowers'\n",
    "train_dir = data_dir + '/train'\n",
    "valid_dir = data_dir + '/valid'\n",
    "test_dir = data_dir + '/test'"
   ]
  },
  {
   "cell_type": "code",
   "execution_count": 3,
   "metadata": {},
   "outputs": [],
   "source": [
    "# TODO: Define your transforms for the training, validation, and testing sets\n",
    "data_transforms = transforms.Compose([transforms.RandomGrayscale(), \n",
    "                                      transforms.RandomCrop(224), \n",
    "                                      transforms.ToTensor(), \n",
    "                                      transforms.Normalize([0.485, 0.456, 0.406], [0.229, 0.224, 0.225])])\n",
    "\n",
    "# TODO: Load the datasets with ImageFolder\n",
    "image_datasets = datasets.ImageFolder(root=train_dir,transform=data_transforms)\n",
    "\n",
    "# # TODO: Using the image datasets and the trainforms, define the dataloaders\n",
    "# dataloaders = DataLoader(dataset=image_datasets, batch_size=30)\n",
    "\n",
    "\n",
    "\n",
    "def getDataLoader(directory, is_train_set=True, batch_size=10, shuffle=True):\n",
    "    if (is_train_set):\n",
    "        data_transforms = transforms.Compose([transforms.RandomGrayscale(), \n",
    "                                      transforms.RandomCrop(224), \n",
    "                                      transforms.ToTensor(), \n",
    "                                      transforms.Normalize([0.485, 0.456, 0.406], [0.229, 0.224, 0.225])])\n",
    "    else:\n",
    "        data_transforms = transforms.Compose([transforms.RandomCrop(224), \n",
    "                                             transforms.ToTensor(), \n",
    "                                             transforms.Normalize([0.485, 0.456, 0.406], [0.229, 0.224, 0.225])])\n",
    "        \n",
    "    # TODO: Load the datasets with ImageFolder\n",
    "    image_datasets = datasets.ImageFolder(root=directory,transform=data_transforms)\n",
    "\n",
    "    # TODO: Using the image datasets and the trainforms, define the dataloaders\n",
    "    dataloader = DataLoader(dataset=image_datasets, batch_size=batch_size, shuffle=shuffle)\n",
    "    \n",
    "    return dataloader\n",
    "\n",
    "trainloader = getDataLoader(train_dir, is_train_set=True, batch_size=35, shuffle=True)\n",
    "validationloader = getDataLoader(valid_dir, is_train_set=False, batch_size=35)\n",
    "testloader = getDataLoader(test_dir, is_train_set=False, batch_size=35)"
   ]
  },
  {
   "cell_type": "code",
   "execution_count": 28,
   "metadata": {},
   "outputs": [
    {
     "name": "stdout",
     "output_type": "stream",
     "text": [
      "188\n",
      "24\n",
      "24\n",
      "torch.Size([35, 3, 224, 224])\n",
      "35\n",
      "35\n",
      "tensor([ 97,  39,  71,  59,  49,  83,   5,  44,  55,  64,   8,  92,\n",
      "         90,  90,  49,  71,  69,  68,  89,  96,  90,  74,  70,  75,\n",
      "         13,  50,  82,  87,   6,  90,   6,  89,  52,  76,  32])\n",
      "torch.Size([3, 224, 224])\n"
     ]
    }
   ],
   "source": [
    "print(len(trainloader))\n",
    "print(len(validationloader))\n",
    "print(len(testloader))\n",
    "\n",
    "flower_images, labels = next(iter(trainloader))\n",
    "\n",
    "print(flower_images.shape)\n",
    "print(len(flower_images))\n",
    "print(len(labels))\n",
    "print(labels)\n",
    "\n",
    "print(flower_images[0].shape)"
   ]
  },
  {
   "cell_type": "markdown",
   "metadata": {},
   "source": [
    "### Label mapping\n",
    "\n",
    "You'll also need to load in a mapping from category label to category name. You can find this in the file `cat_to_name.json`. It's a JSON object which you can read in with the [`json` module](https://docs.python.org/2/library/json.html). This will give you a dictionary mapping the integer encoded categories to the actual names of the flowers."
   ]
  },
  {
   "cell_type": "code",
   "execution_count": 4,
   "metadata": {},
   "outputs": [
    {
     "name": "stdout",
     "output_type": "stream",
     "text": [
      "102\n"
     ]
    }
   ],
   "source": [
    "import json\n",
    "\n",
    "with open('cat_to_name.json', 'r') as f:\n",
    "    cat_to_name = json.load(f)\n",
    "    \n",
    "print(len(cat_to_name))\n"
   ]
  },
  {
   "cell_type": "code",
   "execution_count": 5,
   "metadata": {},
   "outputs": [
    {
     "name": "stderr",
     "output_type": "stream",
     "text": [
      "Downloading: \"https://download.pytorch.org/models/vgg16-397923af.pth\" to /root/.torch/models/vgg16-397923af.pth\n",
      "100%|██████████| 553433881/553433881 [00:12<00:00, 43576660.89it/s]\n"
     ]
    },
    {
     "ename": "NameError",
     "evalue": "name 'model' is not defined",
     "output_type": "error",
     "traceback": [
      "\u001b[0;31m---------------------------------------------------------------------------\u001b[0m",
      "\u001b[0;31mNameError\u001b[0m                                 Traceback (most recent call last)",
      "\u001b[0;32m<ipython-input-5-679929c07346>\u001b[0m in \u001b[0;36m<module>\u001b[0;34m()\u001b[0m\n\u001b[1;32m     52\u001b[0m \u001b[0mlearning_rate\u001b[0m \u001b[0;34m=\u001b[0m \u001b[0;36m0.05\u001b[0m\u001b[0;34m\u001b[0m\u001b[0m\n\u001b[1;32m     53\u001b[0m \u001b[0;34m\u001b[0m\u001b[0m\n\u001b[0;32m---> 54\u001b[0;31m \u001b[0moptimizer\u001b[0m \u001b[0;34m=\u001b[0m \u001b[0moptim\u001b[0m\u001b[0;34m.\u001b[0m\u001b[0mSGD\u001b[0m\u001b[0;34m(\u001b[0m\u001b[0mmodel\u001b[0m\u001b[0;34m.\u001b[0m\u001b[0mclassifier\u001b[0m\u001b[0;34m.\u001b[0m\u001b[0mparameters\u001b[0m\u001b[0;34m(\u001b[0m\u001b[0;34m)\u001b[0m\u001b[0;34m,\u001b[0m \u001b[0mlr\u001b[0m\u001b[0;34m=\u001b[0m\u001b[0mlearning_rate\u001b[0m\u001b[0;34m)\u001b[0m\u001b[0;34m\u001b[0m\u001b[0m\n\u001b[0m\u001b[1;32m     55\u001b[0m \u001b[0;34m\u001b[0m\u001b[0m\n\u001b[1;32m     56\u001b[0m \u001b[0;34m\u001b[0m\u001b[0m\n",
      "\u001b[0;31mNameError\u001b[0m: name 'model' is not defined"
     ]
    }
   ],
   "source": [
    "# Build model\n",
    "\n",
    "# model = models.vgg16(pretrained=True)\n",
    "\n",
    "# # freeze features parameters\n",
    "# for param in model.parameters():\n",
    "#     param.requires_grad = False\n",
    "    \n",
    "# print(model)\n",
    "\n",
    "\n",
    "\n",
    "############################################################\n",
    "#  Hyper Parameters\n",
    "#\n",
    "#  Find the best:\n",
    "#    1. network topology (number of layers, dropout rate, etc.)\n",
    "#    2. learning_rate\n",
    "#    3. epoch\n",
    "############################################################\n",
    "\n",
    "# dropout_rate = 0.5\n",
    "# model.classifier = nn.Sequential(nn.Linear(25088, 4096),\n",
    "#                                 nn.ReLU(),\n",
    "#                                 nn.Dropout(dropout_rate),\n",
    "#                                 nn.Linear(4096, 102),\n",
    "#                                 nn.LogSoftmax(dim=1))\n",
    "\n",
    "def build_vgg16():\n",
    "    model = models.vgg16(pretrained=True)\n",
    "\n",
    "    # freeze features parameters\n",
    "    for param in model.parameters():\n",
    "        param.requires_grad = False\n",
    "        \n",
    "    dropout_rate = 0.5\n",
    "    model.classifier = nn.Sequential(nn.Linear(25088, 4096),\n",
    "                                nn.ReLU(),\n",
    "                                nn.Dropout(dropout_rate),\n",
    "                                nn.Linear(4096, 102),\n",
    "                                nn.LogSoftmax(dim=1))\n",
    "    \n",
    "    return model\n",
    "\n",
    "\n",
    "build_vgg16()\n",
    "\n",
    "    \n",
    "\n",
    "EPOCHS = 5\n",
    "criterion = nn.NLLLoss()\n",
    "learning_rate = 0.05\n",
    "\n",
    "optimizer = optim.SGD(model.classifier.parameters(), lr=learning_rate)\n",
    "\n",
    "\n",
    "# TODO: turn on GPU\n",
    "device = torch.device(\"cuda\" if torch.cuda.is_available() else \"cpu\")\n",
    "print(device)\n",
    "\n",
    "print(model)"
   ]
  },
  {
   "cell_type": "code",
   "execution_count": 13,
   "metadata": {},
   "outputs": [
    {
     "name": "stdout",
     "output_type": "stream",
     "text": [
      "cuda\n",
      "............................................................................................................................................................................................|************************train loader length: 188\n",
      "validation loader length: 24\n",
      "\n",
      "run_loss: 3.118  validation_loss: 4.462   accuracy: 0.135\n",
      "............................................................................................................................................................................................|************************train loader length: 188\n",
      "validation loader length: 24\n",
      "\n",
      "run_loss: 1.982  validation_loss: 1.767   accuracy: 0.504\n",
      "............................................................................................................................................................................................|************************train loader length: 188\n",
      "validation loader length: 24\n",
      "\n",
      "run_loss: 1.678  validation_loss: 2.635   accuracy: 0.426\n",
      "............................................................................................................................................................................................|************************train loader length: 188\n",
      "validation loader length: 24\n",
      "\n",
      "run_loss: 1.569  validation_loss: 1.938   accuracy: 0.544\n",
      "............................................................................................................................................................................................|************************train loader length: 188\n",
      "validation loader length: 24\n",
      "\n",
      "run_loss: 1.481  validation_loss: 3.494   accuracy: 0.379\n",
      "\n",
      "Total execution time: 15.03 minutes.\n"
     ]
    }
   ],
   "source": [
    "# train your network\n",
    "\n",
    "print_every = 20\n",
    "steps = 0\n",
    "\n",
    "start_time = int(time.time())\n",
    "\n",
    "model.to(device)\n",
    "\n",
    "for i in range(EPOCHS):\n",
    "    running_loss = 0\n",
    "    \n",
    "    for images, labels in trainloader:\n",
    "        \n",
    "        images, labels = images.to(device), labels.to(device)\n",
    "        optimizer.zero_grad()\n",
    "        output = model(images)\n",
    "        loss = criterion(output, labels)\n",
    "        loss.backward()\n",
    "        optimizer.step()\n",
    "        \n",
    "        running_loss += loss.item()\n",
    "        \n",
    "        print(\".\", end=\"\")\n",
    "        \n",
    "        steps += 1\n",
    "    \n",
    "    else:\n",
    "        ## RUN VALIDATION every print_every iterations\n",
    "        \n",
    "        validation_loss = 0\n",
    "        accuracy = 0\n",
    "\n",
    "        print(\"|\", end=\"\")\n",
    "\n",
    "        ## Turn off gradients for validation, save memory and computations\n",
    "        with torch.no_grad():\n",
    "            ## turn on eval mode\n",
    "            model.eval()\n",
    "            \n",
    "            for images, labels in validationloader:\n",
    "\n",
    "                print(\"*\", end=\"\")\n",
    "                images, labels = images.to(device), labels.to(device)\n",
    "\n",
    "                logps = model(images)\n",
    "\n",
    "                ## calculate accuracy\n",
    "                ps = torch.exp(logps)\n",
    "\n",
    "                ## TODO: study the shape of top_ps and top_class, I think they should be both 1\n",
    "                top_ps, top_class = ps.topk(1, dim=1)\n",
    "\n",
    "#                 print(f\"top_class: {top_class}\")\n",
    "\n",
    "                equals = top_class == labels.view(*top_class.shape)\n",
    "\n",
    "                accuracy += torch.mean(equals.type(torch.FloatTensor)).item()\n",
    "\n",
    "                ## caculate loss\n",
    "                validation_loss += criterion(logps, labels).item()\n",
    "\n",
    "\n",
    "            ## turn on train mode\n",
    "        model.train()\n",
    "        \n",
    "        print(f\"\\nrun_loss: {round(running_loss/len(trainloader), 3)}  \"\n",
    "            f\"validation_loss: {round(validation_loss/len(validationloader), 3)}  \"\n",
    "            f\" accuracy: {round(accuracy/len(validationloader), 3)}\")\n",
    "\n",
    "            \n",
    "\n",
    "else:\n",
    "    \n",
    "    now = int(time.time())\n",
    "    \n",
    "    print(f\"\\nTotal execution time: {round((now - start_time)/60, 2)} minutes.\")\n",
    "            "
   ]
  },
  {
   "cell_type": "markdown",
   "metadata": {},
   "source": [
    "# Building and training the classifier\n",
    "\n",
    "Now that the data is ready, it's time to build and train the classifier. As usual, you should use one of the pretrained models from `torchvision.models` to get the image features. Build and train a new feed-forward classifier using those features.\n",
    "\n",
    "We're going to leave this part up to you. Refer to [the rubric](https://review.udacity.com/#!/rubrics/1663/view) for guidance on successfully completing this section. Things you'll need to do:\n",
    "\n",
    "* Load a [pre-trained network](http://pytorch.org/docs/master/torchvision/models.html) (If you need a starting point, the VGG networks work great and are straightforward to use)\n",
    "* Define a new, untrained feed-forward network as a classifier, using ReLU activations and dropout\n",
    "* Train the classifier layers using backpropagation using the pre-trained network to get the features\n",
    "* Track the loss and accuracy on the validation set to determine the best hyperparameters\n",
    "\n",
    "We've left a cell open for you below, but use as many as you need. Our advice is to break the problem up into smaller parts you can run separately. Check that each part is doing what you expect, then move on to the next. You'll likely find that as you work through each part, you'll need to go back and modify your previous code. This is totally normal!\n",
    "\n",
    "When training make sure you're updating only the weights of the feed-forward network. You should be able to get the validation accuracy above 70% if you build everything right. Make sure to try different hyperparameters (learning rate, units in the classifier, epochs, etc) to find the best model. Save those hyperparameters to use as default values in the next part of the project.\n",
    "\n",
    "One last important tip if you're using the workspace to run your code: To avoid having your workspace disconnect during the long-running tasks in this notebook, please read in the earlier page in this lesson called Intro to\n",
    "GPU Workspaces about Keeping Your Session Active. You'll want to include code from the workspace_utils.py module.\n",
    "\n",
    "**Note for Workspace users:** If your network is over 1 GB when saved as a checkpoint, there might be issues with saving backups in your workspace. Typically this happens with wide dense layers after the convolutional layers. If your saved checkpoint is larger than 1 GB (you can open a terminal and check with `ls -lh`), you should reduce the size of your hidden layers and train again."
   ]
  },
  {
   "cell_type": "code",
   "execution_count": 11,
   "metadata": {},
   "outputs": [
    {
     "name": "stdout",
     "output_type": "stream",
     "text": [
      "True\n"
     ]
    }
   ],
   "source": [
    "print(torch.cuda.is_available())"
   ]
  },
  {
   "cell_type": "markdown",
   "metadata": {},
   "source": [
    "## Testing your network\n",
    "\n",
    "It's good practice to test your trained network on test data, images the network has never seen either in training or validation. This will give you a good estimate for the model's performance on completely new images. Run the test images through the network and measure the accuracy, the same way you did validation. You should be able to reach around 70% accuracy on the test set if the model has been trained well."
   ]
  },
  {
   "cell_type": "code",
   "execution_count": 15,
   "metadata": {},
   "outputs": [
    {
     "name": "stdout",
     "output_type": "stream",
     "text": [
      "........................test_loss: 3.114   accuracy: 0.783\n"
     ]
    }
   ],
   "source": [
    "# TODO: Do validation on the test set\n",
    "\n",
    "test_loss = 0\n",
    "\n",
    "with torch.no_grad():\n",
    "    model.eval()\n",
    "    \n",
    "    for images, labels in testloader:\n",
    "\n",
    "        print(\".\", end=\"\")\n",
    "        images, labels = images.to(device), labels.to(device)\n",
    "\n",
    "        logps = model(images)\n",
    "\n",
    "        ## calculate accuracy\n",
    "        ps = torch.exp(logps)\n",
    "\n",
    "        ## TODO: study the shape of top_ps and top_class, I think they should be both 1\n",
    "        top_ps, top_class = ps.topk(1, dim=1)\n",
    "\n",
    "        equals = top_class == labels.view(*top_class.shape)\n",
    "\n",
    "        accuracy += torch.mean(equals.type(torch.FloatTensor)).item()\n",
    "\n",
    "        ## caculate loss\n",
    "        test_loss += criterion(logps, labels).item()\n",
    "\n",
    "\n",
    "    else:\n",
    "\n",
    "        model.train()\n",
    "        \n",
    "        print(f\"test_loss: {round(test_loss/len(testloader), 3)}  \"\n",
    "            f\" accuracy: {round(accuracy/len(testloader), 3)}\")\n"
   ]
  },
  {
   "cell_type": "code",
   "execution_count": null,
   "metadata": {},
   "outputs": [],
   "source": [
    "## TODO: \n",
    "## Why is it that the test accuracy is much higher (0.783) than the validation accuracy (0.347 - 0.544)"
   ]
  },
  {
   "cell_type": "markdown",
   "metadata": {},
   "source": [
    "## Save the checkpoint\n",
    "\n",
    "Now that your network is trained, save the model so you can load it later for making predictions. You probably want to save other things such as the mapping of classes to indices which you get from one of the image datasets: `image_datasets['train'].class_to_idx`. You can attach this to the model as an attribute which makes inference easier later on.\n",
    "\n",
    "```model.class_to_idx = image_datasets['train'].class_to_idx```\n",
    "\n",
    "Remember that you'll want to completely rebuild the model later so you can use it for inference. Make sure to include any information you need in the checkpoint. If you want to load the model and keep training, you'll want to save the number of epochs as well as the optimizer state, `optimizer.state_dict`. You'll likely want to use this trained model in the next part of the project, so best to save it now."
   ]
  },
  {
   "cell_type": "code",
   "execution_count": 23,
   "metadata": {},
   "outputs": [],
   "source": [
    "# TODO: Save the checkpoint \n",
    "\n",
    "torch.save(model.state_dict(), 'checkpoint.pth')\n"
   ]
  },
  {
   "cell_type": "markdown",
   "metadata": {},
   "source": [
    "## Loading the checkpoint\n",
    "\n",
    "At this point it's good to write a function that can load a checkpoint and rebuild the model. That way you can come back to this project and keep working on it without having to retrain the network."
   ]
  },
  {
   "cell_type": "code",
   "execution_count": 6,
   "metadata": {},
   "outputs": [],
   "source": [
    "# TODO: Write a function that loads a checkpoint and rebuilds the model\n",
    "\n",
    "def center_crop(image, new_width, new_height):\n",
    "    width, height = image.size\n",
    "    \n",
    "    left = (width - new_width) / 2\n",
    "    top = (height - new_height) /2 \n",
    "    right = (width + new_width)/2\n",
    "    bottom = (height + new_height)/2\n",
    "\n",
    "    # Crop the center of the image\n",
    "    im = im.crop((left, top, right, bottom))\n",
    "\n",
    "    \n",
    "def load_checkpoint(model, file_path):\n",
    "#     print(\"inside load_checkpoint: \", model)\n",
    "    state_dict = torch.load(file_path, map_location=lambda storage, loc: storage)\n",
    "#     print(state_dict)\n",
    "    \n",
    "    \n",
    "    model.load_state_dict(state_dict)\n",
    "    \n",
    "    return model\n",
    "    \n",
    "\n",
    "# model = build_vgg16()\n",
    "\n",
    "# model_after_load = load_checkpoint(model, 'checkpoint.pth')\n",
    "# print(model_after_load)\n",
    "\n",
    "# %ls -lh ./checkpoint.pth"
   ]
  },
  {
   "cell_type": "markdown",
   "metadata": {},
   "source": [
    "# Inference for classification\n",
    "\n",
    "Now you'll write a function to use a trained network for inference. That is, you'll pass an image into the network and predict the class of the flower in the image. Write a function called `predict` that takes an image and a model, then returns the top $K$ most likely classes along with the probabilities. It should look like \n",
    "\n",
    "```python\n",
    "probs, classes = predict(image_path, model)\n",
    "print(probs)\n",
    "print(classes)\n",
    "> [ 0.01558163  0.01541934  0.01452626  0.01443549  0.01407339]\n",
    "> ['70', '3', '45', '62', '55']\n",
    "```\n",
    "\n",
    "First you'll need to handle processing the input image such that it can be used in your network. \n",
    "\n",
    "## Image Preprocessing\n",
    "\n",
    "You'll want to use `PIL` to load the image ([documentation](https://pillow.readthedocs.io/en/latest/reference/Image.html)). It's best to write a function that preprocesses the image so it can be used as input for the model. This function should process the images in the same manner used for training. \n",
    "\n",
    "First, resize the images where the shortest side is 256 pixels, keeping the aspect ratio. This can be done with the [`thumbnail`](http://pillow.readthedocs.io/en/3.1.x/reference/Image.html#PIL.Image.Image.thumbnail) or [`resize`](http://pillow.readthedocs.io/en/3.1.x/reference/Image.html#PIL.Image.Image.thumbnail) methods. Then you'll need to crop out the center 224x224 portion of the image.\n",
    "\n",
    "Color channels of images are typically encoded as integers 0-255, but the model expected floats 0-1. You'll need to convert the values. It's easiest with a Numpy array, which you can get from a PIL image like so `np_image = np.array(pil_image)`.\n",
    "\n",
    "As before, the network expects the images to be normalized in a specific way. For the means, it's `[0.485, 0.456, 0.406]` and for the standard deviations `[0.229, 0.224, 0.225]`. You'll want to subtract the means from each color channel, then divide by the standard deviation. \n",
    "\n",
    "\n",
    "And finally, PyTorch expects the color channel to be the first dimension but it's the third dimension in the PIL image and Numpy array. You can reorder dimensions using [`ndarray.transpose`](https://docs.scipy.org/doc/numpy-1.13.0/reference/generated/numpy.ndarray.transpose.html). The color channel needs to be first and retain the order of the other two dimensions."
   ]
  },
  {
   "cell_type": "code",
   "execution_count": 7,
   "metadata": {},
   "outputs": [],
   "source": [
    "def center_crop(image, new_width, new_height):\n",
    "    width, height = image.size\n",
    "    \n",
    "    left = (width - new_width) / 2\n",
    "    top = (height - new_height) /2 \n",
    "    right = (width + new_width)/2\n",
    "    bottom = (height + new_height)/2\n",
    "\n",
    "    # Crop the center of the image\n",
    "    return image.crop((left, top, right, bottom))\n",
    "\n",
    "\n",
    "def process_image(image_path):\n",
    "    ''' Scales, crops, and normalizes a PIL image for a PyTorch model,\n",
    "        returns an Numpy array\n",
    "    '''\n",
    "    im = Image.open(image_path)\n",
    "    \n",
    "    height, width = im.size\n",
    "#     print(f\"height: {height}, width: {width}\")\n",
    "    \n",
    "\n",
    "    if height > width:\n",
    "        im_resized = im.resize((int(height*256/width), 256)) \n",
    "    else:\n",
    "        im_resized = im.resize((256, int(width*256/height)))\n",
    "    \n",
    "\n",
    "    im_crop = center_crop(im_resized, 224, 224)\n",
    "\n",
    "    np_image = np.array(im_crop)\n",
    "\n",
    "\n",
    "    # red channel\n",
    "    np_image[:,:,0] = (np_image[:,:,0] - 0.485) / 0.229\n",
    "    # green channel\n",
    "    np_image[:,:,1] = (np_image[:,:,1] - 0.456) / 0.224\n",
    "    # blue channel\n",
    "    np_image[:,:,2] = (np_image[:,:,2] - 0.406) / 0.225\n",
    "\n",
    "    np_image_transposed = np_image.transpose(2,0,1)\n",
    "\n",
    "    return np_image_transposed\n",
    "\n",
    "test_numpy_image = process_image('flowers/train/100/image_07893.jpg')\n",
    "\n",
    "# print(test_numpy_image.shape)\n",
    "# torch.from_numpy(test_numpy_image).shape"
   ]
  },
  {
   "cell_type": "code",
   "execution_count": 34,
   "metadata": {},
   "outputs": [
    {
     "data": {
      "text/plain": [
       "'/home/workspace/aipnd-project'"
      ]
     },
     "execution_count": 34,
     "metadata": {},
     "output_type": "execute_result"
    }
   ],
   "source": [
    "import os\n",
    "os.getcwd()"
   ]
  },
  {
   "cell_type": "markdown",
   "metadata": {},
   "source": [
    "To check your work, the function below converts a PyTorch tensor and displays it in the notebook. If your `process_image` function works, running the output through this function should return the original image (except for the cropped out portions)."
   ]
  },
  {
   "cell_type": "code",
   "execution_count": 8,
   "metadata": {},
   "outputs": [
    {
     "ename": "AttributeError",
     "evalue": "'numpy.ndarray' object has no attribute 'numpy'",
     "output_type": "error",
     "traceback": [
      "\u001b[0;31m---------------------------------------------------------------------------\u001b[0m",
      "\u001b[0;31mAttributeError\u001b[0m                            Traceback (most recent call last)",
      "\u001b[0;32m<ipython-input-8-4cd0149c36b1>\u001b[0m in \u001b[0;36m<module>\u001b[0;34m()\u001b[0m\n\u001b[1;32m     37\u001b[0m \u001b[0;31m# test_image_1.numpy = lambda: np_test_image_1\u001b[0m\u001b[0;34m\u001b[0m\u001b[0;34m\u001b[0m\u001b[0m\n\u001b[1;32m     38\u001b[0m \u001b[0;34m\u001b[0m\u001b[0m\n\u001b[0;32m---> 39\u001b[0;31m \u001b[0mimshow\u001b[0m\u001b[0;34m(\u001b[0m\u001b[0mprocessed_test_image_1\u001b[0m\u001b[0;34m)\u001b[0m\u001b[0;34m\u001b[0m\u001b[0m\n\u001b[0m\u001b[1;32m     40\u001b[0m \u001b[0;34m\u001b[0m\u001b[0m\n\u001b[1;32m     41\u001b[0m \u001b[0;31m# imshow(flower_images[0])\u001b[0m\u001b[0;34m\u001b[0m\u001b[0;34m\u001b[0m\u001b[0m\n",
      "\u001b[0;32m<ipython-input-8-4cd0149c36b1>\u001b[0m in \u001b[0;36mimshow\u001b[0;34m(image, ax, title)\u001b[0m\n\u001b[1;32m     11\u001b[0m     \u001b[0;31m# PyTorch tensors assume the color channel is the first dimension\u001b[0m\u001b[0;34m\u001b[0m\u001b[0;34m\u001b[0m\u001b[0m\n\u001b[1;32m     12\u001b[0m     \u001b[0;31m# but matplotlib assumes is the third dimension\u001b[0m\u001b[0;34m\u001b[0m\u001b[0;34m\u001b[0m\u001b[0m\n\u001b[0;32m---> 13\u001b[0;31m     \u001b[0mimage\u001b[0m \u001b[0;34m=\u001b[0m \u001b[0mimage\u001b[0m\u001b[0;34m.\u001b[0m\u001b[0mnumpy\u001b[0m\u001b[0;34m(\u001b[0m\u001b[0;34m)\u001b[0m\u001b[0;34m.\u001b[0m\u001b[0mtranspose\u001b[0m\u001b[0;34m(\u001b[0m\u001b[0;34m(\u001b[0m\u001b[0;36m1\u001b[0m\u001b[0;34m,\u001b[0m \u001b[0;36m2\u001b[0m\u001b[0;34m,\u001b[0m \u001b[0;36m0\u001b[0m\u001b[0;34m)\u001b[0m\u001b[0;34m)\u001b[0m\u001b[0;34m\u001b[0m\u001b[0m\n\u001b[0m\u001b[1;32m     14\u001b[0m \u001b[0;31m#     image = image.transpose((1, 2, 0))\u001b[0m\u001b[0;34m\u001b[0m\u001b[0;34m\u001b[0m\u001b[0m\n\u001b[1;32m     15\u001b[0m     \u001b[0mprint\u001b[0m\u001b[0;34m(\u001b[0m\u001b[0mimage\u001b[0m\u001b[0;34m.\u001b[0m\u001b[0mshape\u001b[0m\u001b[0;34m)\u001b[0m\u001b[0;34m\u001b[0m\u001b[0m\n",
      "\u001b[0;31mAttributeError\u001b[0m: 'numpy.ndarray' object has no attribute 'numpy'"
     ]
    },
    {
     "data": {
      "image/png": "[encoded data removed]",
      "text/plain": [
       "<matplotlib.figure.Figure at 0x7f47f54a2a58>"
      ]
     },
     "metadata": {
      "needs_background": "light"
     },
     "output_type": "display_data"
    }
   ],
   "source": [
    "def to_tensor(file_path):\n",
    "    np_image = process_image(file_path)\n",
    "    tensor_image = torch.from_numpy(np_image).float().to(device)\n",
    "    return tensor_image\n",
    "\n",
    "def imshow(image, ax=None, title=None):\n",
    "    \"\"\"Imshow for Tensor.\"\"\"\n",
    "    if ax is None:\n",
    "        fig, ax = plt.subplots()\n",
    "    \n",
    "    # PyTorch tensors assume the color channel is the first dimension\n",
    "    # but matplotlib assumes is the third dimension\n",
    "#     image = image.numpy().transpose((1, 2, 0))\n",
    "#     image = image.transpose((1, 2, 0))\n",
    "    print(image.shape)\n",
    "    \n",
    "    # Undo preprocessing\n",
    "    mean = np.array([0.485, 0.456, 0.406])\n",
    "    std = np.array([0.229, 0.224, 0.225])\n",
    "    image = std * image + mean\n",
    "    \n",
    "    # Image needs to be clipped between 0 and 1 or it looks like noise when displayed\n",
    "    image = np.clip(image, 0, 1)\n",
    "    \n",
    "    ax.imshow(image)\n",
    "    \n",
    "    return ax\n",
    "\n",
    "\n",
    "test_image_1 = 'flowers/train/100/image_07893.jpg'\n",
    "processed_test_image_1 = process_image(test_image_1)\n",
    "# print(type(processed_test_image_1))\n",
    "\n",
    "\n",
    "# np_test_image_1 = np.array(test_image_1)\n",
    "\n",
    "# test_image_1.numpy = lambda: np_test_image_1\n",
    "\n",
    "imshow(processed_test_image_1)\n",
    "\n",
    "# imshow(flower_images[0])"
   ]
  },
  {
   "cell_type": "markdown",
   "metadata": {},
   "source": [
    "## Class Prediction\n",
    "\n",
    "Once you can get images in the correct format, it's time to write a function for making predictions with your model. A common practice is to predict the top 5 or so (usually called top-$K$) most probable classes. You'll want to calculate the class probabilities then find the $K$ largest values.\n",
    "\n",
    "To get the top $K$ largest values in a tensor use [`x.topk(k)`](http://pytorch.org/docs/master/torch.html#torch.topk). This method returns both the highest `k` probabilities and the indices of those probabilities corresponding to the classes. You need to convert from these indices to the actual class labels using `class_to_idx` which hopefully you added to the model or from an `ImageFolder` you used to load the data ([see here](#Save-the-checkpoint)). Make sure to invert the dictionary so you get a mapping from index to class as well.\n",
    "\n",
    "Again, this method should take a path to an image and a model checkpoint, then return the probabilities and classes.\n",
    "\n",
    "```python\n",
    "probs, classes = predict(image_path, model)\n",
    "print(probs)\n",
    "print(classes)\n",
    "> [ 0.01558163  0.01541934  0.01452626  0.01443549  0.01407339]\n",
    "> ['70', '3', '45', '62', '55']\n",
    "```"
   ]
  },
  {
   "cell_type": "code",
   "execution_count": 11,
   "metadata": {},
   "outputs": [],
   "source": [
    "def predict(image_path, model, topk=5):\n",
    "    ''' Predict the class (or classes) of an image using a trained deep learning model.\n",
    "    '''\n",
    "#     np_image = process_image(image_path)\n",
    "#     image = torch.from_numpy(np_image).float().to(device)\n",
    "    image = to_tensor(image_path)\n",
    "\n",
    "    ## adds a dimension of size one at position 0 (dim=0)\n",
    "    image.unsqueeze_(0)\n",
    "    \n",
    "    print(\"inside predict: \", model)\n",
    "    # TODO: Implement the code to predict the class from an image file\n",
    "    model.eval()\n",
    "    with torch.no_grad():\n",
    "\n",
    "        logps = model.forward(image)\n",
    "    \n",
    "        ps = torch.exp(logps)\n",
    "    \n",
    "        top_p, top_class = ps.topk(topk)\n",
    "    \n",
    "    return [top_p, top_class]\n",
    "\n"
   ]
  },
  {
   "cell_type": "markdown",
   "metadata": {},
   "source": [
    "## Sanity Checking\n",
    "\n",
    "Now that you can use a trained model for predictions, check to make sure it makes sense. Even if the testing accuracy is high, it's always good to check that there aren't obvious bugs. Use `matplotlib` to plot the probabilities for the top 5 classes as a bar graph, along with the input image. It should look like this:\n",
    "\n",
    "<img src='assets/inference_example.png' width=300px>\n",
    "\n",
    "You can convert from the class integer encoding to actual flower names with the `cat_to_name.json` file (should have been loaded earlier in the notebook). To show a PyTorch tensor as an image, use the `imshow` function defined above."
   ]
  },
  {
   "cell_type": "code",
   "execution_count": 12,
   "metadata": {},
   "outputs": [
    {
     "name": "stdout",
     "output_type": "stream",
     "text": [
      "inside predict:  VGG(\n",
      "  (features): Sequential(\n",
      "    (0): Conv2d(3, 64, kernel_size=(3, 3), stride=(1, 1), padding=(1, 1))\n",
      "    (1): ReLU(inplace)\n",
      "    (2): Conv2d(64, 64, kernel_size=(3, 3), stride=(1, 1), padding=(1, 1))\n",
      "    (3): ReLU(inplace)\n",
      "    (4): MaxPool2d(kernel_size=2, stride=2, padding=0, dilation=1, ceil_mode=False)\n",
      "    (5): Conv2d(64, 128, kernel_size=(3, 3), stride=(1, 1), padding=(1, 1))\n",
      "    (6): ReLU(inplace)\n",
      "    (7): Conv2d(128, 128, kernel_size=(3, 3), stride=(1, 1), padding=(1, 1))\n",
      "    (8): ReLU(inplace)\n",
      "    (9): MaxPool2d(kernel_size=2, stride=2, padding=0, dilation=1, ceil_mode=False)\n",
      "    (10): Conv2d(128, 256, kernel_size=(3, 3), stride=(1, 1), padding=(1, 1))\n",
      "    (11): ReLU(inplace)\n",
      "    (12): Conv2d(256, 256, kernel_size=(3, 3), stride=(1, 1), padding=(1, 1))\n",
      "    (13): ReLU(inplace)\n",
      "    (14): Conv2d(256, 256, kernel_size=(3, 3), stride=(1, 1), padding=(1, 1))\n",
      "    (15): ReLU(inplace)\n",
      "    (16): MaxPool2d(kernel_size=2, stride=2, padding=0, dilation=1, ceil_mode=False)\n",
      "    (17): Conv2d(256, 512, kernel_size=(3, 3), stride=(1, 1), padding=(1, 1))\n",
      "    (18): ReLU(inplace)\n",
      "    (19): Conv2d(512, 512, kernel_size=(3, 3), stride=(1, 1), padding=(1, 1))\n",
      "    (20): ReLU(inplace)\n",
      "    (21): Conv2d(512, 512, kernel_size=(3, 3), stride=(1, 1), padding=(1, 1))\n",
      "    (22): ReLU(inplace)\n",
      "    (23): MaxPool2d(kernel_size=2, stride=2, padding=0, dilation=1, ceil_mode=False)\n",
      "    (24): Conv2d(512, 512, kernel_size=(3, 3), stride=(1, 1), padding=(1, 1))\n",
      "    (25): ReLU(inplace)\n",
      "    (26): Conv2d(512, 512, kernel_size=(3, 3), stride=(1, 1), padding=(1, 1))\n",
      "    (27): ReLU(inplace)\n",
      "    (28): Conv2d(512, 512, kernel_size=(3, 3), stride=(1, 1), padding=(1, 1))\n",
      "    (29): ReLU(inplace)\n",
      "    (30): MaxPool2d(kernel_size=2, stride=2, padding=0, dilation=1, ceil_mode=False)\n",
      "  )\n",
      "  (classifier): Sequential(\n",
      "    (0): Linear(in_features=25088, out_features=4096, bias=True)\n",
      "    (1): ReLU()\n",
      "    (2): Dropout(p=0.5)\n",
      "    (3): Linear(in_features=4096, out_features=102, bias=True)\n",
      "    (4): LogSoftmax()\n",
      "  )\n",
      ")\n"
     ]
    }
   ],
   "source": [
    "# TODO: Display an image along with the top 5 classes\n",
    "\n",
    "device = 'cpu'\n",
    "\n",
    "test_image_path = 'flowers/test/100/image_07896.jpg'\n",
    "\n",
    "\n",
    "model = build_vgg16()\n",
    "\n",
    "\n",
    "model = load_checkpoint(model, 'checkpoint.pth')\n",
    "\n",
    "\n",
    "top_p, top_class = predict(test_image_path, model, 5)\n",
    "\n",
    "# print(top_p)\n",
    "# print(top_class)\n"
   ]
  },
  {
   "cell_type": "code",
   "execution_count": 53,
   "metadata": {},
   "outputs": [
    {
     "name": "stdout",
     "output_type": "stream",
     "text": [
      "torch.Size([1, 5])\n"
     ]
    }
   ],
   "source": [
    "print(top_p.shape)"
   ]
  },
  {
   "cell_type": "code",
   "execution_count": 54,
   "metadata": {},
   "outputs": [
    {
     "name": "stdout",
     "output_type": "stream",
     "text": [
      "torch.Size([1, 5])\n"
     ]
    }
   ],
   "source": [
    "print(top_class.shape)"
   ]
  },
  {
   "cell_type": "code",
   "execution_count": 20,
   "metadata": {},
   "outputs": [
    {
     "name": "stdout",
     "output_type": "stream",
     "text": [
      "tensor([ 1.0000e+00,  1.6515e-12,  6.4435e-41,  1.2612e-41,  1.8077e-43])\n"
     ]
    }
   ],
   "source": [
    "print(top_p[0])"
   ]
  },
  {
   "cell_type": "code",
   "execution_count": 57,
   "metadata": {},
   "outputs": [
    {
     "name": "stdout",
     "output_type": "stream",
     "text": [
      "[1.0, 1.6514808184181495e-12, 6.443450598658374e-41, 1.2611686178923354e-41, 1.807675018979014e-43]\n"
     ]
    }
   ],
   "source": [
    "print(top_p[0].tolist())"
   ]
  },
  {
   "cell_type": "code",
   "execution_count": 64,
   "metadata": {},
   "outputs": [
    {
     "name": "stdout",
     "output_type": "stream",
     "text": [
      "[49, 84, 2, 47, 21]\n"
     ]
    }
   ],
   "source": [
    "print(top_class[0].tolist())"
   ]
  },
  {
   "cell_type": "code",
   "execution_count": 65,
   "metadata": {},
   "outputs": [
    {
     "name": "stdout",
     "output_type": "stream",
     "text": [
      "dict_items([('21', 'fire lily'), ('3', 'canterbury bells'), ('45', 'bolero deep blue'), ('1', 'pink primrose'), ('34', 'mexican aster'), ('27', 'prince of wales feathers'), ('7', 'moon orchid'), ('16', 'globe-flower'), ('25', 'grape hyacinth'), ('26', 'corn poppy'), ('79', 'toad lily'), ('39', 'siam tulip'), ('24', 'red ginger'), ('67', 'spring crocus'), ('35', 'alpine sea holly'), ('32', 'garden phlox'), ('10', 'globe thistle'), ('6', 'tiger lily'), ('93', 'ball moss'), ('33', 'love in the mist'), ('9', 'monkshood'), ('102', 'blackberry lily'), ('14', 'spear thistle'), ('19', 'balloon flower'), ('100', 'blanket flower'), ('13', 'king protea'), ('49', 'oxeye daisy'), ('15', 'yellow iris'), ('61', 'cautleya spicata'), ('31', 'carnation'), ('64', 'silverbush'), ('68', 'bearded iris'), ('63', 'black-eyed susan'), ('69', 'windflower'), ('62', 'japanese anemone'), ('20', 'giant white arum lily'), ('38', 'great masterwort'), ('4', 'sweet pea'), ('86', 'tree mallow'), ('101', 'trumpet creeper'), ('42', 'daffodil'), ('22', 'pincushion flower'), ('2', 'hard-leaved pocket orchid'), ('54', 'sunflower'), ('66', 'osteospermum'), ('70', 'tree poppy'), ('85', 'desert-rose'), ('99', 'bromelia'), ('87', 'magnolia'), ('5', 'english marigold'), ('92', 'bee balm'), ('28', 'stemless gentian'), ('97', 'mallow'), ('57', 'gaura'), ('40', 'lenten rose'), ('47', 'marigold'), ('59', 'orange dahlia'), ('48', 'buttercup'), ('55', 'pelargonium'), ('36', 'ruby-lipped cattleya'), ('91', 'hippeastrum'), ('29', 'artichoke'), ('71', 'gazania'), ('90', 'canna lily'), ('18', 'peruvian lily'), ('98', 'mexican petunia'), ('8', 'bird of paradise'), ('30', 'sweet william'), ('17', 'purple coneflower'), ('52', 'wild pansy'), ('84', 'columbine'), ('12', \"colt's foot\"), ('11', 'snapdragon'), ('96', 'camellia'), ('23', 'fritillary'), ('50', 'common dandelion'), ('44', 'poinsettia'), ('53', 'primula'), ('72', 'azalea'), ('65', 'californian poppy'), ('80', 'anthurium'), ('76', 'morning glory'), ('37', 'cape flower'), ('56', 'bishop of llandaff'), ('60', 'pink-yellow dahlia'), ('82', 'clematis'), ('58', 'geranium'), ('75', 'thorn apple'), ('41', 'barbeton daisy'), ('95', 'bougainvillea'), ('43', 'sword lily'), ('83', 'hibiscus'), ('78', 'lotus lotus'), ('88', 'cyclamen'), ('94', 'foxglove'), ('81', 'frangipani'), ('74', 'rose'), ('89', 'watercress'), ('73', 'water lily'), ('46', 'wallflower'), ('77', 'passion flower'), ('51', 'petunia')])\n"
     ]
    }
   ],
   "source": [
    "print(cat_to_name.items())"
   ]
  },
  {
   "cell_type": "code",
   "execution_count": 13,
   "metadata": {},
   "outputs": [],
   "source": [
    "top_class_names = [ class_name for (class_num, class_name) in cat_to_name.items() if int(class_num) in top_class[0].tolist()]\n",
    "\n",
    "# print(top_class_names)\n"
   ]
  },
  {
   "cell_type": "code",
   "execution_count": 27,
   "metadata": {},
   "outputs": [
    {
     "name": "stdout",
     "output_type": "stream",
     "text": [
      "(224, 224, 3)\n"
     ]
    },
    {
     "ename": "TypeError",
     "evalue": "Image data cannot be converted to float",
     "output_type": "error",
     "traceback": [
      "\u001b[0;31m---------------------------------------------------------------------------\u001b[0m",
      "\u001b[0;31mTypeError\u001b[0m                                 Traceback (most recent call last)",
      "\u001b[0;32m<ipython-input-27-b7c336927474>\u001b[0m in \u001b[0;36m<module>\u001b[0;34m()\u001b[0m\n\u001b[1;32m      6\u001b[0m \u001b[0;34m\u001b[0m\u001b[0m\n\u001b[1;32m      7\u001b[0m \u001b[0;34m\u001b[0m\u001b[0m\n\u001b[0;32m----> 8\u001b[0;31m \u001b[0max2\u001b[0m\u001b[0;34m.\u001b[0m\u001b[0mimshow\u001b[0m\u001b[0;34m(\u001b[0m\u001b[0mimshow\u001b[0m\u001b[0;34m(\u001b[0m\u001b[0mprocess_image\u001b[0m\u001b[0;34m(\u001b[0m\u001b[0mtest_image_path\u001b[0m\u001b[0;34m)\u001b[0m\u001b[0;34m)\u001b[0m\u001b[0;34m)\u001b[0m\u001b[0;34m\u001b[0m\u001b[0m\n\u001b[0m\u001b[1;32m      9\u001b[0m \u001b[0;31m# print(imshow(process_image(test_image_path)).shape)\u001b[0m\u001b[0;34m\u001b[0m\u001b[0;34m\u001b[0m\u001b[0m\n\u001b[1;32m     10\u001b[0m \u001b[0;34m\u001b[0m\u001b[0m\n",
      "\u001b[0;32m/opt/conda/lib/python3.6/site-packages/matplotlib/__init__.py\u001b[0m in \u001b[0;36minner\u001b[0;34m(ax, *args, **kwargs)\u001b[0m\n\u001b[1;32m   1708\u001b[0m                     warnings.warn(msg % (label_namer, func.__name__),\n\u001b[1;32m   1709\u001b[0m                                   RuntimeWarning, stacklevel=2)\n\u001b[0;32m-> 1710\u001b[0;31m             \u001b[0;32mreturn\u001b[0m \u001b[0mfunc\u001b[0m\u001b[0;34m(\u001b[0m\u001b[0max\u001b[0m\u001b[0;34m,\u001b[0m \u001b[0;34m*\u001b[0m\u001b[0margs\u001b[0m\u001b[0;34m,\u001b[0m \u001b[0;34m**\u001b[0m\u001b[0mkwargs\u001b[0m\u001b[0;34m)\u001b[0m\u001b[0;34m\u001b[0m\u001b[0m\n\u001b[0m\u001b[1;32m   1711\u001b[0m         \u001b[0mpre_doc\u001b[0m \u001b[0;34m=\u001b[0m \u001b[0minner\u001b[0m\u001b[0;34m.\u001b[0m\u001b[0m__doc__\u001b[0m\u001b[0;34m\u001b[0m\u001b[0m\n\u001b[1;32m   1712\u001b[0m         \u001b[0;32mif\u001b[0m \u001b[0mpre_doc\u001b[0m \u001b[0;32mis\u001b[0m \u001b[0;32mNone\u001b[0m\u001b[0;34m:\u001b[0m\u001b[0;34m\u001b[0m\u001b[0m\n",
      "\u001b[0;32m/opt/conda/lib/python3.6/site-packages/matplotlib/axes/_axes.py\u001b[0m in \u001b[0;36mimshow\u001b[0;34m(self, X, cmap, norm, aspect, interpolation, alpha, vmin, vmax, origin, extent, shape, filternorm, filterrad, imlim, resample, url, **kwargs)\u001b[0m\n\u001b[1;32m   5192\u001b[0m                               resample=resample, **kwargs)\n\u001b[1;32m   5193\u001b[0m \u001b[0;34m\u001b[0m\u001b[0m\n\u001b[0;32m-> 5194\u001b[0;31m         \u001b[0mim\u001b[0m\u001b[0;34m.\u001b[0m\u001b[0mset_data\u001b[0m\u001b[0;34m(\u001b[0m\u001b[0mX\u001b[0m\u001b[0;34m)\u001b[0m\u001b[0;34m\u001b[0m\u001b[0m\n\u001b[0m\u001b[1;32m   5195\u001b[0m         \u001b[0mim\u001b[0m\u001b[0;34m.\u001b[0m\u001b[0mset_alpha\u001b[0m\u001b[0;34m(\u001b[0m\u001b[0malpha\u001b[0m\u001b[0;34m)\u001b[0m\u001b[0;34m\u001b[0m\u001b[0m\n\u001b[1;32m   5196\u001b[0m         \u001b[0;32mif\u001b[0m \u001b[0mim\u001b[0m\u001b[0;34m.\u001b[0m\u001b[0mget_clip_path\u001b[0m\u001b[0;34m(\u001b[0m\u001b[0;34m)\u001b[0m \u001b[0;32mis\u001b[0m \u001b[0;32mNone\u001b[0m\u001b[0;34m:\u001b[0m\u001b[0;34m\u001b[0m\u001b[0m\n",
      "\u001b[0;32m/opt/conda/lib/python3.6/site-packages/matplotlib/image.py\u001b[0m in \u001b[0;36mset_data\u001b[0;34m(self, A)\u001b[0m\n\u001b[1;32m    598\u001b[0m         if (self._A.dtype != np.uint8 and\n\u001b[1;32m    599\u001b[0m                 not np.can_cast(self._A.dtype, float, \"same_kind\")):\n\u001b[0;32m--> 600\u001b[0;31m             \u001b[0;32mraise\u001b[0m \u001b[0mTypeError\u001b[0m\u001b[0;34m(\u001b[0m\u001b[0;34m\"Image data cannot be converted to float\"\u001b[0m\u001b[0;34m)\u001b[0m\u001b[0;34m\u001b[0m\u001b[0m\n\u001b[0m\u001b[1;32m    601\u001b[0m \u001b[0;34m\u001b[0m\u001b[0m\n\u001b[1;32m    602\u001b[0m         if not (self._A.ndim == 2\n",
      "\u001b[0;31mTypeError\u001b[0m: Image data cannot be converted to float"
     ]
    },
    {
     "data": {
      "image/png": "[encoded data removed]",
      "text/plain": [
       "<matplotlib.figure.Figure at 0x7fb7f5dddfd0>"
      ]
     },
     "metadata": {
      "needs_background": "light"
     },
     "output_type": "display_data"
    },
    {
     "data": {
      "image/png": "[encoded data removed]",
      "text/plain": [
       "<matplotlib.figure.Figure at 0x7fb7f61a0588>"
      ]
     },
     "metadata": {
      "needs_background": "light"
     },
     "output_type": "display_data"
    }
   ],
   "source": [
    "\n",
    "# \n",
    "# imshow(process_image(test_image_path))\n",
    "\n",
    "fig, (ax1, ax2) = plt.subplots(nrows=2, ncols=1)\n",
    "\n",
    "\n",
    "ax2.imshow(imshow(process_image(test_image_path)))\n",
    "# print(imshow(process_image(test_image_path)).shape)\n",
    "\n",
    "\n",
    "ax1.barh(top_class_names, top_p[0].tolist())\n",
    "ax1.set_xlabel('probability')\n",
    "\n",
    "plt.tight_layout()\n",
    "\n",
    "plt.show()\n",
    "\n",
    "# y_pos = np.arange(len(top_class[0]))\n",
    "# plt.barh(y_pos, top_p[0], align='center', alpha=0.5)\n",
    "# plt.xlabel('probability')\n",
    "# # plt.title('Flower classification')\n",
    "# plt.yticks(y_pos, top_class_names)\n",
    "\n",
    "# plt.show()"
   ]
  },
  {
   "cell_type": "code",
   "execution_count": null,
   "metadata": {},
   "outputs": [],
   "source": [
    "\n"
   ]
  },
  {
   "cell_type": "code",
   "execution_count": null,
   "metadata": {},
   "outputs": [],
   "source": []
  },
  {
   "cell_type": "code",
   "execution_count": null,
   "metadata": {},
   "outputs": [],
   "source": []
  }
 ],
 "metadata": {
  "kernelspec": {
   "display_name": "Python 3",
   "language": "python",
   "name": "python3"
  },
  "language_info": {
   "codemirror_mode": {
    "name": "ipython",
    "version": 3
   },
   "file_extension": ".py",
   "mimetype": "text/x-python",
   "name": "python",
   "nbconvert_exporter": "python",
   "pygments_lexer": "ipython3",
   "version": "3.6.3"
  }
 },
 "nbformat": 4,
 "nbformat_minor": 2
}
